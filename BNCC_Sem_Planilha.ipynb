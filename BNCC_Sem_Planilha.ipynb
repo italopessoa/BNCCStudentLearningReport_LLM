{
  "nbformat": 4,
  "nbformat_minor": 0,
  "metadata": {
    "colab": {
      "provenance": [],
      "toc_visible": true,
      "authorship_tag": "ABX9TyOMUWyc83CIRDF6+BkMmaH0"
    },
    "kernelspec": {
      "name": "python3",
      "display_name": "Python 3"
    },
    "language_info": {
      "name": "python"
    }
  },
  "cells": [
    {
      "cell_type": "markdown",
      "source": [
        "Instalando SDK do Google"
      ],
      "metadata": {
        "id": "S1HLjGrC7PSd"
      }
    },
    {
      "cell_type": "code",
      "execution_count": null,
      "metadata": {
        "id": "vWlBiOIo4s58"
      },
      "outputs": [],
      "source": [
        "!pip install -q -U google-generativeai"
      ]
    },
    {
      "cell_type": "markdown",
      "source": [
        "Configurar API_KEY"
      ],
      "metadata": {
        "id": "DdFf72jb7MHu"
      }
    },
    {
      "cell_type": "code",
      "source": [
        "from google.colab import userdata\n",
        "API_KEY = userdata.get('API_KEY')"
      ],
      "metadata": {
        "id": "lxvu2JKi7inV"
      },
      "execution_count": null,
      "outputs": []
    },
    {
      "cell_type": "markdown",
      "source": [
        "Configurar genai object"
      ],
      "metadata": {
        "id": "vL-hnCCI7JZW"
      }
    },
    {
      "cell_type": "code",
      "source": [
        "import google.generativeai as genai\n",
        "genai.configure(api_key=API_KEY)"
      ],
      "metadata": {
        "id": "CXTfcqGk78qU"
      },
      "execution_count": null,
      "outputs": []
    },
    {
      "cell_type": "markdown",
      "source": [
        "Configurações de segurança e modelo"
      ],
      "metadata": {
        "id": "e_KJp8ww86Qx"
      }
    },
    {
      "cell_type": "code",
      "source": [
        "# configuracao padrao do gemini para modelo e seguranca\n",
        "generation_config = {\n",
        "  \"temperature\": 1,\n",
        "  \"top_p\": 0.95,\n",
        "  \"top_k\": 0,\n",
        "  \"max_output_tokens\": 8192,\n",
        "}\n",
        "\n",
        "safety_settings = [\n",
        "  {\n",
        "    \"category\": \"HARM_CATEGORY_HARASSMENT\",\n",
        "    \"threshold\": \"BLOCK_MEDIUM_AND_ABOVE\"\n",
        "  },\n",
        "  {\n",
        "    \"category\": \"HARM_CATEGORY_HATE_SPEECH\",\n",
        "    \"threshold\": \"BLOCK_MEDIUM_AND_ABOVE\"\n",
        "  },\n",
        "  {\n",
        "    \"category\": \"HARM_CATEGORY_SEXUALLY_EXPLICIT\",\n",
        "    \"threshold\": \"BLOCK_MEDIUM_AND_ABOVE\"\n",
        "  },\n",
        "  {\n",
        "    \"category\": \"HARM_CATEGORY_DANGEROUS_CONTENT\",\n",
        "    \"threshold\": \"BLOCK_MEDIUM_AND_ABOVE\"\n",
        "  },\n",
        "]"
      ],
      "metadata": {
        "id": "Sgj-L2wz8_1Z"
      },
      "execution_count": null,
      "outputs": []
    },
    {
      "cell_type": "markdown",
      "source": [
        "Instruções a AI a se comportar como um profissional de educação."
      ],
      "metadata": {
        "id": "pezu6V4l9Gqa"
      }
    },
    {
      "cell_type": "code",
      "source": [
        "m_instruction = \"Você é um profissional experiente na educação de jovens e pre-adolescentes, especializado na BNCC (Base Nacional Comum Curricular) que descreve as habilidades e as aprendizagens essenciais que todos os alunos devem desenvolver durante cada etapa da educação básica.\\n\\nVocê receberá o resultado de uma prova, No formato Questão e Resposta.\\nVocê deverá avaliar as respostas e relacioná-las com as competencias descritas na planilha.\\n\\nPor exemplo:\\nQuestão: Ordene os seguintes numeros em ordem crescente (5,4,3,2,1).\\nResposta: 2,5,4,1,3\\n\\nResultado: Fere a habilidade EF01MA01\\n\\nAo final, forneça uma breve sugestão de atividades que os pais possam realizar para auxiliar no desenvolvimento das competências que precisam de melhorias. \\nTambém resuma brevemente os possíveis impactos futuros na vida prática da criança, causados pela falta desses conhecimentos.\\nUtilize uma linguagem simples!\""
      ],
      "metadata": {
        "id": "25L5dNpE9Jcb"
      },
      "execution_count": null,
      "outputs": []
    },
    {
      "cell_type": "markdown",
      "source": [
        "Selecionar genai model"
      ],
      "metadata": {
        "id": "PiZ0G6NU8Z2m"
      }
    },
    {
      "cell_type": "code",
      "source": [
        "model = genai.GenerativeModel(model_name=\"gemini-1.5-pro-latest\",\n",
        "                              generation_config=generation_config,\n",
        "                              system_instruction=system_instruction,\n",
        "                              safety_settings=safety_settings)"
      ],
      "metadata": {
        "id": "5wS2s-6Z8c0u"
      },
      "execution_count": null,
      "outputs": []
    },
    {
      "cell_type": "markdown",
      "source": [
        "Criar funcao para leitura de planilha no googlesheets"
      ],
      "metadata": {
        "id": "Q2U3ASqlQjgg"
      }
    },
    {
      "cell_type": "code",
      "source": [
        "!pip install -q -U oauth2client"
      ],
      "metadata": {
        "id": "fWJjfFSLRLtd"
      },
      "execution_count": null,
      "outputs": []
    },
    {
      "cell_type": "code",
      "source": [
        "from oauth2client.service_account import ServiceAccountCredentials\n",
        "from googleapiclient.discovery import build\n",
        "\n",
        "# Define the scope\n",
        "scope = ['https://spreadsheets.google.com/feeds']\n",
        "\n",
        "# Load credentials from the JSON file\n",
        "credentials = ServiceAccountCredentials.from_json_keyfile_name('credentials.json', scope)\n",
        "\n",
        "# Build the Google Drive API service\n",
        "drive = build('drive', 'v3', credentials=credentials)\n"
      ],
      "metadata": {
        "id": "VSu80XtHQoAo"
      },
      "execution_count": null,
      "outputs": []
    },
    {
      "cell_type": "code",
      "source": [
        "import pandas as pd\n",
        "def read_gemini_spreadsheet():\n",
        "  # read by default 1st sheet of an excel file\n",
        "  dataframe1 = pd.read_excel('bncc.xlsx')\n",
        "\n",
        "  print(dataframe1)"
      ],
      "metadata": {
        "id": "cpQM8xYESZ6L"
      },
      "execution_count": null,
      "outputs": []
    },
    {
      "cell_type": "markdown",
      "source": [
        "Preencher perguntas e respostas"
      ],
      "metadata": {
        "id": "J8dcGj51-CmS"
      }
    },
    {
      "cell_type": "code",
      "source": [
        "prompt_parts = []\n",
        "\n",
        "# Iniciar um loop para que o usuario possa informar as perguntas e respostas\n",
        "print(\"Por favor informe os seguintes dados: \")\n",
        "name = input(\"Nome do(a) aluno(a): \")\n",
        "age = input(\"Idade do(a) aluno(a): \")\n",
        "grade = input(\"Serie do(a) aluno(a): \")\n",
        "print(\"Agora vamos começar informando as perguntas de respostas.\")\n",
        "print('digite \"fim\" para encerrar e iniciar a analise.');\n",
        "prompt = ''\n",
        "prompt_input = '';\n",
        "answer = ''\n",
        "question = ''\n",
        "\n",
        "while prompt != 'fim':\n",
        "\n",
        "  if not question:\n",
        "    prompt = input('Digite a pergunta ou \"fim\" para sair: ')\n",
        "  else:\n",
        "    prompt = input('Digite a resposta ou \"fim\" para sair: ')\n",
        "\n",
        "\n",
        "  if not question:\n",
        "    question = f\"Pergunta {len(prompt_parts) + 1}: {prompt}\"\n",
        "  else:\n",
        "    if prompt != 'fim':\n",
        "      question = f\"{question} \\nResposta: {prompt}\"\n",
        "      prompt_parts.append(question)\n",
        "      question = ''\n",
        "      answer = ''\n",
        "\n",
        "# Exibir lista com perguntas enviadas\n",
        "print(f\"Você informou {len(prompt_parts)} pergunta(s):\\n\")\n",
        "\n",
        "# Print each item in the list\n",
        "for item in prompt_parts:\n",
        "  print(item)\n",
        "\n",
        "prompt_parts.append(f\"Nome: {name} \\n\")\n",
        "prompt_parts.append(f\"Idade: {age} \\n\")\n",
        "prompt_parts.append(f\"Serio: {grade} do ensino fundamental\\n\")\n"
      ],
      "metadata": {
        "colab": {
          "base_uri": "https://localhost:8080/"
        },
        "id": "XYp-EepU-E3Z",
        "outputId": "efc54d5e-c411-4d43-ec83-c994fbcd19fc"
      },
      "execution_count": null,
      "outputs": [
        {
          "output_type": "stream",
          "name": "stdout",
          "text": [
            "Por favor informe os seguintes dados: \n",
            "Nome do(a) aluno(a): quanto e 1 + 1\n",
            "Idade do(a) aluno(a): 12\n",
            "Serie do(a) aluno(a): 2\n",
            "Agora vamos começar informando as perguntas de respostas.\n",
            "digite \"fim\" para encerrar e iniciar a analise.\n",
            "Digite a pergunta ou \"fim\" para sair: quanto e 1+1\n",
            "Digite a resposta ou \"fim\" para sair: 3\n",
            "Digite a pergunta ou \"fim\" para sair: fim\n",
            "Você informou 1 pergunta(s):\n",
            "\n",
            "Pergunta 1: quanto e 1+1 \n",
            "Resposta: 3\n"
          ]
        }
      ]
    },
    {
      "cell_type": "code",
      "source": [
        "prompt_parts.append(read_gemini_spreadsheet())"
      ],
      "metadata": {
        "id": "bu9B7tdVVlP9"
      },
      "execution_count": null,
      "outputs": []
    },
    {
      "cell_type": "markdown",
      "source": [
        "Exibir relatório"
      ],
      "metadata": {
        "id": "BBcbw2wcWJdH"
      }
    },
    {
      "cell_type": "code",
      "source": [
        "response = model.generate_content(prompt_parts)\n",
        "print(response.text)"
      ],
      "metadata": {
        "colab": {
          "base_uri": "https://localhost:8080/",
          "height": 471
        },
        "id": "Z4iREQkQoYrk",
        "outputId": "676d78a6-1be1-4215-9c8f-f8c606e34309"
      },
      "execution_count": null,
      "outputs": [
        {
          "output_type": "stream",
          "name": "stdout",
          "text": [
            "## Análise da resposta do aluno:\n",
            "\n",
            "**Questão:** Quanto é 1 + 1?\n",
            "**Resposta:** 3\n",
            "\n",
            "**Habilidade:** EF01MA06 (Resolver e elaborar problemas de adição e subtração, envolvendo números de até 10, utilizando objetos, desenhos, números e sinais, oralmente e por escrito, em situações diversas, com ou sem apoio de material manipulável.)\n",
            "\n",
            "**Resultado:** A resposta está incorreta. O aluno demonstra dificuldade com a operação básica de adição,  não compreendendo o conceito de somar quantidades.\n",
            "\n",
            "## Sugestões de atividades para os pais:\n",
            "\n",
            "* **Brincar com jogos de tabuleiro:**  Estimulem o desenvolvimento do raciocínio matemático com jogos simples como dominó, dados e jogos de trilha, que envolvem contagem e adição.\n",
            "* **Usar objetos concretos para contar:**  Façam atividades práticas usando brinquedos, frutas ou outros objetos do dia a dia para ensinar a criança a contar e somar quantidades.\n",
            "* **Criar histórias matemáticas:** Invente histórias simples que envolvam situações de adição, como \"João tinha 2 carrinhos e ganhou mais 1, com quantos carrinhos ele ficou?\".\n",
            "\n",
            "## Possíveis impactos futuros:\n",
            "\n",
            "A falta de domínio da adição pode prejudicar o aprendizado de outros conceitos matemáticos mais complexos no futuro, além de impactar atividades cotidianas como:\n",
            "\n",
            "* Lidar com dinheiro: A criança pode ter dificuldades para calcular troco ou o valor total de uma compra.\n",
            "* Entender conceitos de tempo: A adição é fundamental para calcular a duração de eventos ou a diferença entre horários.\n",
            "* Seguir receitas e instruções: A maioria das receitas e manuais de instrução envolve números e operações matemáticas básicas. \n",
            "\n",
            "É importante que os pais se dediquem a ajudar a criança a desenvolver as habilidades matemáticas básicas, criando uma base sólida para o aprendizado futuro. \n",
            "\n"
          ]
        }
      ]
    }
  ]
}